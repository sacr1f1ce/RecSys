{
 "cells": [
  {
   "cell_type": "code",
   "execution_count": 1,
   "id": "d0847d87",
   "metadata": {},
   "outputs": [
    {
     "data": {
      "text/plain": [
       "<function TextIOWrapper.close()>"
      ]
     },
     "execution_count": 1,
     "metadata": {},
     "output_type": "execute_result"
    }
   ],
   "source": [
    "import numpy as np\n",
    "import json\n",
    "\n",
    "item_matrix = np.load('item_matrix.npy', allow_pickle=True )\n",
    "item_id = np.load('itemid.npy', allow_pickle=True)\n",
    "wts = np.load('weights.npy', allow_pickle=True)\n",
    "\n",
    "f = open('anime_id2name.json')\n",
    "\n",
    "id2name = json.load(f)\n",
    "f.close"
   ]
  },
  {
   "cell_type": "code",
   "execution_count": 3,
   "id": "5f6831c2",
   "metadata": {},
   "outputs": [],
   "source": [
    "def topn_recommendations(scores, topn=5): \n",
    "    recommendations = np.apply_along_axis(topidx, 0, scores, topn) \n",
    "    return recommendations \n",
    " \n",
    "def topidx(a, topn): \n",
    "    parted = np.argpartition(a, -topn)[-topn:] \n",
    "    return parted[np.argsort(-a[parted])]\n",
    "\n",
    "def downvote_seen_items(scores, seen_ids): \n",
    "    min_score = min(scores) - 1\n",
    "    for id_ in seen_ids:\n",
    "        pos = np.where(item_id == id_)[0][0]\n",
    "        scores[pos] = min_score\n",
    "    return scores"
   ]
  },
  {
   "cell_type": "code",
   "execution_count": 4,
   "id": "56337a6d",
   "metadata": {},
   "outputs": [
    {
     "name": "stdout",
     "output_type": "stream",
     "text": [
      "CPU times: user 3.37 s, sys: 1.97 s, total: 5.33 s\n",
      "Wall time: 860 ms\n"
     ]
    }
   ],
   "source": [
    "%%time\n",
    "M = item_matrix @ item_matrix.T"
   ]
  },
  {
   "cell_type": "code",
   "execution_count": 1,
   "id": "0e25103c",
   "metadata": {},
   "outputs": [],
   "source": [
    "import telebot\n",
    "from telebot import types\n",
    "\n",
    "ratings = {}\n",
    "request_user = {}\n",
    "API_TOKEN = '5677096457:AAHYpRxfaCw9WnJjRybbF-igrxK3XAe3cXo'\n",
    "bot = telebot.TeleBot(API_TOKEN)\n",
    "\n",
    "test_ids = [20, 21, 269, 136]\n",
    "\n",
    "\n",
    "@bot.message_handler(commands=['suggest'])\n",
    "def echo_message(message):\n",
    "    name = message.from_user.username\n",
    "    if name not in ratings:\n",
    "        bot.send_message(message.chat.id,\n",
    "                             text=f'Not enough info')\n",
    "    else:\n",
    "        p = np.zeros(13686)\n",
    "        #print(ratings[name])\n",
    "        for anime_id, score in ratings[name].items():\n",
    "            p[anime_id] = score\n",
    "        recs = M @ p\n",
    "        recs = downvote_seen_items(recs, test_ids)\n",
    "        for id_ in topn_recommendations(recs):\n",
    "            bot.send_message(message.chat.id,\n",
    "                             text=f'Consider {id2name[str(item_id[id_])]}')\n",
    "        \n",
    "    \n",
    "                \n",
    "@bot.message_handler(commands=['rate'])\n",
    "def echo_message(message):\n",
    "    name = message.from_user.username\n",
    "    if name not in ratings:\n",
    "        ratings[name] = {}\n",
    "    #anime_id = test_ids[len(ratings[name])]\n",
    "    #anime_id = np.where(item_id == anime_id)[0][0]\n",
    "    anime_id = np.random.choice(item_id)\n",
    "    request_user[name] = anime_id\n",
    "    bot.send_message(message.chat.id,\n",
    "                         text=f'Please rate {id2name[str(item_id[anime_id])]}')\n",
    "    bot.send_message(message.chat.id,\n",
    "                         text=f'You have to rate {len(test_ids) - len(ratings[name])} more')\n",
    "        \n",
    "        \n",
    "\n",
    "    \n",
    "@bot.message_handler(content_types=['text'])\n",
    "def echo_message(message):\n",
    "    name = message.from_user.username \n",
    "    if name in request_user:\n",
    "        ratings[name][request_user[name]] = float(message.text)      \n",
    "                \n",
    "    "
   ]
  },
  {
   "cell_type": "code",
   "execution_count": null,
   "id": "bb81c554",
   "metadata": {},
   "outputs": [],
   "source": [
    "bot.polling()"
   ]
  },
  {
   "cell_type": "code",
   "execution_count": null,
   "id": "b3644417",
   "metadata": {},
   "outputs": [],
   "source": []
  },
  {
   "cell_type": "code",
   "execution_count": null,
   "id": "11d9098b",
   "metadata": {},
   "outputs": [],
   "source": []
  }
 ],
 "metadata": {
  "kernelspec": {
   "display_name": "Python 3 (ipykernel)",
   "language": "python",
   "name": "python3"
  },
  "language_info": {
   "codemirror_mode": {
    "name": "ipython",
    "version": 3
   },
   "file_extension": ".py",
   "mimetype": "text/x-python",
   "name": "python",
   "nbconvert_exporter": "python",
   "pygments_lexer": "ipython3",
   "version": "3.9.6"
  }
 },
 "nbformat": 4,
 "nbformat_minor": 5
}
