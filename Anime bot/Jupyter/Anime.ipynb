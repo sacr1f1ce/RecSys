{
 "cells": [
  {
   "cell_type": "code",
   "execution_count": 2,
   "metadata": {},
   "outputs": [],
   "source": [
    "import numpy as np\n",
    "import pandas as pd\n",
    "from scipy.sparse import diags\n",
    "from scipy.sparse.linalg import svds\n",
    "from tqdm import tqdm\n",
    "\n",
    "from dataprep import transform_indices, reindex_data, generate_interactions_matrix\n",
    "from evaluation import downvote_seen_items, topn_recommendations\n",
    "\n",
    "\n",
    "from scipy.sparse import csr_matrix\n",
    "from scipy.sparse import hstack as sp_hstack\n",
    "from scipy.sparse import diags as spdiags\n",
    "from scipy.sparse import eye as speye\n",
    "\n",
    "from polara.preprocessing.dataframes import matrix_from_observations\n"
   ]
  },
  {
   "cell_type": "code",
   "execution_count": 3,
   "metadata": {},
   "outputs": [],
   "source": [
    "data = pd.read_csv('archive/animelists_cleaned.csv')"
   ]
  },
  {
   "cell_type": "code",
   "execution_count": 4,
   "metadata": {},
   "outputs": [],
   "source": [
    "df_users = pd.read_csv('archive/users_cleaned.csv')"
   ]
  },
  {
   "cell_type": "code",
   "execution_count": 5,
   "metadata": {},
   "outputs": [],
   "source": [
    "username2userid = df_users.set_index('username').to_dict()['user_id']"
   ]
  },
  {
   "cell_type": "code",
   "execution_count": 6,
   "metadata": {},
   "outputs": [],
   "source": [
    "data['userid'] = data['username'].apply(lambda x: username2userid[x])"
   ]
  },
  {
   "cell_type": "code",
   "execution_count": 7,
   "metadata": {},
   "outputs": [
    {
     "data": {
      "text/html": [
       "<div>\n",
       "<style scoped>\n",
       "    .dataframe tbody tr th:only-of-type {\n",
       "        vertical-align: middle;\n",
       "    }\n",
       "\n",
       "    .dataframe tbody tr th {\n",
       "        vertical-align: top;\n",
       "    }\n",
       "\n",
       "    .dataframe thead th {\n",
       "        text-align: right;\n",
       "    }\n",
       "</style>\n",
       "<table border=\"1\" class=\"dataframe\">\n",
       "  <thead>\n",
       "    <tr style=\"text-align: right;\">\n",
       "      <th></th>\n",
       "      <th>username</th>\n",
       "      <th>anime_id</th>\n",
       "      <th>my_watched_episodes</th>\n",
       "      <th>my_start_date</th>\n",
       "      <th>my_finish_date</th>\n",
       "      <th>my_score</th>\n",
       "      <th>my_status</th>\n",
       "      <th>my_rewatching</th>\n",
       "      <th>my_rewatching_ep</th>\n",
       "      <th>my_last_updated</th>\n",
       "      <th>my_tags</th>\n",
       "      <th>userid</th>\n",
       "    </tr>\n",
       "  </thead>\n",
       "  <tbody>\n",
       "    <tr>\n",
       "      <th>0</th>\n",
       "      <td>karthiga</td>\n",
       "      <td>21</td>\n",
       "      <td>586</td>\n",
       "      <td>0000-00-00</td>\n",
       "      <td>0000-00-00</td>\n",
       "      <td>9</td>\n",
       "      <td>1</td>\n",
       "      <td>NaN</td>\n",
       "      <td>0</td>\n",
       "      <td>2013-03-03 10:52:53</td>\n",
       "      <td>NaN</td>\n",
       "      <td>2255153</td>\n",
       "    </tr>\n",
       "    <tr>\n",
       "      <th>1</th>\n",
       "      <td>karthiga</td>\n",
       "      <td>59</td>\n",
       "      <td>26</td>\n",
       "      <td>0000-00-00</td>\n",
       "      <td>0000-00-00</td>\n",
       "      <td>7</td>\n",
       "      <td>2</td>\n",
       "      <td>NaN</td>\n",
       "      <td>0</td>\n",
       "      <td>2013-03-10 13:54:51</td>\n",
       "      <td>NaN</td>\n",
       "      <td>2255153</td>\n",
       "    </tr>\n",
       "    <tr>\n",
       "      <th>2</th>\n",
       "      <td>karthiga</td>\n",
       "      <td>74</td>\n",
       "      <td>26</td>\n",
       "      <td>0000-00-00</td>\n",
       "      <td>0000-00-00</td>\n",
       "      <td>7</td>\n",
       "      <td>2</td>\n",
       "      <td>NaN</td>\n",
       "      <td>0</td>\n",
       "      <td>2013-04-27 16:43:35</td>\n",
       "      <td>NaN</td>\n",
       "      <td>2255153</td>\n",
       "    </tr>\n",
       "    <tr>\n",
       "      <th>3</th>\n",
       "      <td>karthiga</td>\n",
       "      <td>120</td>\n",
       "      <td>26</td>\n",
       "      <td>0000-00-00</td>\n",
       "      <td>0000-00-00</td>\n",
       "      <td>7</td>\n",
       "      <td>2</td>\n",
       "      <td>NaN</td>\n",
       "      <td>0</td>\n",
       "      <td>2013-03-03 10:53:57</td>\n",
       "      <td>NaN</td>\n",
       "      <td>2255153</td>\n",
       "    </tr>\n",
       "    <tr>\n",
       "      <th>4</th>\n",
       "      <td>karthiga</td>\n",
       "      <td>178</td>\n",
       "      <td>26</td>\n",
       "      <td>0000-00-00</td>\n",
       "      <td>0000-00-00</td>\n",
       "      <td>7</td>\n",
       "      <td>2</td>\n",
       "      <td>0.0</td>\n",
       "      <td>0</td>\n",
       "      <td>2013-03-27 15:59:13</td>\n",
       "      <td>NaN</td>\n",
       "      <td>2255153</td>\n",
       "    </tr>\n",
       "  </tbody>\n",
       "</table>\n",
       "</div>"
      ],
      "text/plain": [
       "   username  anime_id  my_watched_episodes my_start_date my_finish_date  \\\n",
       "0  karthiga        21                  586    0000-00-00     0000-00-00   \n",
       "1  karthiga        59                   26    0000-00-00     0000-00-00   \n",
       "2  karthiga        74                   26    0000-00-00     0000-00-00   \n",
       "3  karthiga       120                   26    0000-00-00     0000-00-00   \n",
       "4  karthiga       178                   26    0000-00-00     0000-00-00   \n",
       "\n",
       "   my_score  my_status  my_rewatching  my_rewatching_ep      my_last_updated  \\\n",
       "0         9          1            NaN                 0  2013-03-03 10:52:53   \n",
       "1         7          2            NaN                 0  2013-03-10 13:54:51   \n",
       "2         7          2            NaN                 0  2013-04-27 16:43:35   \n",
       "3         7          2            NaN                 0  2013-03-03 10:53:57   \n",
       "4         7          2            0.0                 0  2013-03-27 15:59:13   \n",
       "\n",
       "  my_tags   userid  \n",
       "0     NaN  2255153  \n",
       "1     NaN  2255153  \n",
       "2     NaN  2255153  \n",
       "3     NaN  2255153  \n",
       "4     NaN  2255153  "
      ]
     },
     "execution_count": 7,
     "metadata": {},
     "output_type": "execute_result"
    }
   ],
   "source": [
    "data.head()"
   ]
  },
  {
   "cell_type": "code",
   "execution_count": 8,
   "metadata": {},
   "outputs": [],
   "source": [
    "train_matrix, user_index, anime_index = matrix_from_observations(\n",
    "    data, userid='userid', itemid='anime_id', feedback='my_score'\n",
    ")"
   ]
  },
  {
   "cell_type": "code",
   "execution_count": 9,
   "metadata": {},
   "outputs": [],
   "source": [
    "df = data[['userid', 'anime_id', 'my_score', 'my_last_updated']]"
   ]
  },
  {
   "cell_type": "code",
   "execution_count": 10,
   "metadata": {},
   "outputs": [
    {
     "data": {
      "text/html": [
       "<div>\n",
       "<style scoped>\n",
       "    .dataframe tbody tr th:only-of-type {\n",
       "        vertical-align: middle;\n",
       "    }\n",
       "\n",
       "    .dataframe tbody tr th {\n",
       "        vertical-align: top;\n",
       "    }\n",
       "\n",
       "    .dataframe thead th {\n",
       "        text-align: right;\n",
       "    }\n",
       "</style>\n",
       "<table border=\"1\" class=\"dataframe\">\n",
       "  <thead>\n",
       "    <tr style=\"text-align: right;\">\n",
       "      <th></th>\n",
       "      <th>userid</th>\n",
       "      <th>movieid</th>\n",
       "      <th>rating</th>\n",
       "      <th>timestamp</th>\n",
       "    </tr>\n",
       "  </thead>\n",
       "  <tbody>\n",
       "    <tr>\n",
       "      <th>0</th>\n",
       "      <td>2255153</td>\n",
       "      <td>21</td>\n",
       "      <td>9</td>\n",
       "      <td>2013-03-03 10:52:53</td>\n",
       "    </tr>\n",
       "    <tr>\n",
       "      <th>1</th>\n",
       "      <td>2255153</td>\n",
       "      <td>59</td>\n",
       "      <td>7</td>\n",
       "      <td>2013-03-10 13:54:51</td>\n",
       "    </tr>\n",
       "    <tr>\n",
       "      <th>2</th>\n",
       "      <td>2255153</td>\n",
       "      <td>74</td>\n",
       "      <td>7</td>\n",
       "      <td>2013-04-27 16:43:35</td>\n",
       "    </tr>\n",
       "    <tr>\n",
       "      <th>3</th>\n",
       "      <td>2255153</td>\n",
       "      <td>120</td>\n",
       "      <td>7</td>\n",
       "      <td>2013-03-03 10:53:57</td>\n",
       "    </tr>\n",
       "    <tr>\n",
       "      <th>4</th>\n",
       "      <td>2255153</td>\n",
       "      <td>178</td>\n",
       "      <td>7</td>\n",
       "      <td>2013-03-27 15:59:13</td>\n",
       "    </tr>\n",
       "    <tr>\n",
       "      <th>...</th>\n",
       "      <td>...</td>\n",
       "      <td>...</td>\n",
       "      <td>...</td>\n",
       "      <td>...</td>\n",
       "    </tr>\n",
       "    <tr>\n",
       "      <th>31284025</th>\n",
       "      <td>4862000</td>\n",
       "      <td>15611</td>\n",
       "      <td>9</td>\n",
       "      <td>2015-09-07 17:33:03</td>\n",
       "    </tr>\n",
       "    <tr>\n",
       "      <th>31284026</th>\n",
       "      <td>4862000</td>\n",
       "      <td>27815</td>\n",
       "      <td>9</td>\n",
       "      <td>2015-09-07 17:32:05</td>\n",
       "    </tr>\n",
       "    <tr>\n",
       "      <th>31284027</th>\n",
       "      <td>299167</td>\n",
       "      <td>5945</td>\n",
       "      <td>8</td>\n",
       "      <td>2010-03-29 04:24:12</td>\n",
       "    </tr>\n",
       "    <tr>\n",
       "      <th>31284028</th>\n",
       "      <td>263803</td>\n",
       "      <td>1316</td>\n",
       "      <td>9</td>\n",
       "      <td>2009-12-23 05:45:14</td>\n",
       "    </tr>\n",
       "    <tr>\n",
       "      <th>31284029</th>\n",
       "      <td>48074</td>\n",
       "      <td>1744</td>\n",
       "      <td>10</td>\n",
       "      <td>2008-04-05 11:36:20</td>\n",
       "    </tr>\n",
       "  </tbody>\n",
       "</table>\n",
       "<p>19172125 rows × 4 columns</p>\n",
       "</div>"
      ],
      "text/plain": [
       "           userid  movieid  rating            timestamp\n",
       "0         2255153       21       9  2013-03-03 10:52:53\n",
       "1         2255153       59       7  2013-03-10 13:54:51\n",
       "2         2255153       74       7  2013-04-27 16:43:35\n",
       "3         2255153      120       7  2013-03-03 10:53:57\n",
       "4         2255153      178       7  2013-03-27 15:59:13\n",
       "...           ...      ...     ...                  ...\n",
       "31284025  4862000    15611       9  2015-09-07 17:33:03\n",
       "31284026  4862000    27815       9  2015-09-07 17:32:05\n",
       "31284027   299167     5945       8  2010-03-29 04:24:12\n",
       "31284028   263803     1316       9  2009-12-23 05:45:14\n",
       "31284029    48074     1744      10  2008-04-05 11:36:20\n",
       "\n",
       "[19172125 rows x 4 columns]"
      ]
     },
     "execution_count": 10,
     "metadata": {},
     "output_type": "execute_result"
    }
   ],
   "source": [
    "df = df.rename(columns={\"userid\": \"userid\", \"anime_id\": \"movieid\", 'my_last_updated':'timestamp', 'my_score':'rating'})\n",
    "df = df.loc[df.rating > 0]\n",
    "df"
   ]
  },
  {
   "cell_type": "code",
   "execution_count": 11,
   "metadata": {},
   "outputs": [],
   "source": [
    "def plot_monthly_activity(data, ax=None, label=None, timeid='my_last_updated'):\n",
    "    return (data\n",
    "        .set_index(pd.to_datetime(data[timeid], unit='s'))\n",
    "        .resample('M').size()\n",
    "        .plot(ax=ax, logy=True, label=label, xlabel='Month',\n",
    "              title='Monthly rating activity', legend=label is not None)\n",
    "    )"
   ]
  },
  {
   "cell_type": "code",
   "execution_count": 12,
   "metadata": {},
   "outputs": [],
   "source": [
    "def timepoint_split(data, time_split_q=0.95):\n",
    "    \"\"\"\n",
    "    Split data into training, testset, and holdout datasets based on a timepoint split\n",
    "    and according to the `warm-start` evaluation strategy.\n",
    "\n",
    "    Parameters\n",
    "    ----------\n",
    "    data : pd.DataFrame\n",
    "        The input dataset containing columns `userid`, `movieid`, and `timestamp`.\n",
    "    time_split_q : float, optional\n",
    "        The quantile value used to split the dataset based on the `timestamp` column.\n",
    "        Default is 0.95.\n",
    "\n",
    "    Returns\n",
    "    -------\n",
    "    Tuple[pd.DataFrame, pd.DataFrame, pd.DataFrame]\n",
    "        A tuple of three pandas DataFrames: training, testset, and holdout.\n",
    "        `training` is a subset of `data` used for training the recommender system.\n",
    "        `testset` is a subset of `data` used for generating recommendations for the test users.\n",
    "        `holdout` is a subset excluded from `testset` containing only the most recent interactions for each test user.\n",
    "\n",
    "    Notes\n",
    "    -----\n",
    "    The function splits the input `data` into three subsets: `training`, `testset`, and `holdout`.\n",
    "    The split is performed based on the `timestamp` column of `data`, using `time_split_q` as the quantile value.\n",
    "    The `holdout` dataset contains only the immediate interactions following the fixed timepoint for each test user from the `testset`.\n",
    "    The set of users in `training` is disjoint with the set of users in the `testset`, which implements the `warm-start` scenario.\n",
    "    \"\"\"    \n",
    "    timepoint = data.timestamp.quantile(q=time_split_q, interpolation='nearest')\n",
    "    test_ = data.query('timestamp >= @timepoint')\n",
    "    rest_ = data.drop(test_.index)\n",
    "    holdout_ = (\n",
    "        test_\n",
    "        .sort_values('timestamp')\n",
    "        .drop_duplicates(subset=['userid'], keep='first')\n",
    "    )\n",
    "    # the holdout dataframe contains interactions closest to certain timepoint from the right,\n",
    "    # i.e., the corresponding items are the first in each test user profile after this timepoint\n",
    "    training = rest_.query('userid not in @holdout_.userid')\n",
    "    train_items = training.movieid.unique()\n",
    "    testset_ = rest_.query('userid in @holdout_.userid and movieid in @train_items')\n",
    "    test_users = testset_.userid.unique()\n",
    "    holdout = holdout_.query(\n",
    "        # if user is not in `test_users` then no evluation is possible,\n",
    "        # if item is not in `train_items` it's cold start -> must be excluded\n",
    "        'userid in @test_users and movieid in @train_items'\n",
    "    ).sort_values('userid')\n",
    "    testset = testset_.query(\n",
    "        # make sure testset and holdout contain the same set of users\n",
    "        'userid in @holdout.userid'\n",
    "    ).sort_values('userid')\n",
    "    return training, testset, holdout"
   ]
  },
  {
   "cell_type": "code",
   "execution_count": 13,
   "metadata": {},
   "outputs": [],
   "source": [
    "topn = 5"
   ]
  },
  {
   "cell_type": "code",
   "execution_count": 14,
   "metadata": {},
   "outputs": [],
   "source": [
    "train_val_, testset_val_, holdout_val_ = timepoint_split(df, time_split_q=0.96)"
   ]
  },
  {
   "cell_type": "code",
   "execution_count": 15,
   "metadata": {},
   "outputs": [
    {
     "data": {
      "text/html": [
       "<div>\n",
       "<style scoped>\n",
       "    .dataframe tbody tr th:only-of-type {\n",
       "        vertical-align: middle;\n",
       "    }\n",
       "\n",
       "    .dataframe tbody tr th {\n",
       "        vertical-align: top;\n",
       "    }\n",
       "\n",
       "    .dataframe thead th {\n",
       "        text-align: right;\n",
       "    }\n",
       "</style>\n",
       "<table border=\"1\" class=\"dataframe\">\n",
       "  <thead>\n",
       "    <tr style=\"text-align: right;\">\n",
       "      <th></th>\n",
       "      <th>userid</th>\n",
       "      <th>movieid</th>\n",
       "      <th>rating</th>\n",
       "      <th>timestamp</th>\n",
       "    </tr>\n",
       "  </thead>\n",
       "  <tbody>\n",
       "    <tr>\n",
       "      <th>0</th>\n",
       "      <td>2255153</td>\n",
       "      <td>21</td>\n",
       "      <td>9</td>\n",
       "      <td>2013-03-03 10:52:53</td>\n",
       "    </tr>\n",
       "    <tr>\n",
       "      <th>1</th>\n",
       "      <td>2255153</td>\n",
       "      <td>59</td>\n",
       "      <td>7</td>\n",
       "      <td>2013-03-10 13:54:51</td>\n",
       "    </tr>\n",
       "    <tr>\n",
       "      <th>2</th>\n",
       "      <td>2255153</td>\n",
       "      <td>74</td>\n",
       "      <td>7</td>\n",
       "      <td>2013-04-27 16:43:35</td>\n",
       "    </tr>\n",
       "    <tr>\n",
       "      <th>3</th>\n",
       "      <td>2255153</td>\n",
       "      <td>120</td>\n",
       "      <td>7</td>\n",
       "      <td>2013-03-03 10:53:57</td>\n",
       "    </tr>\n",
       "    <tr>\n",
       "      <th>4</th>\n",
       "      <td>2255153</td>\n",
       "      <td>178</td>\n",
       "      <td>7</td>\n",
       "      <td>2013-03-27 15:59:13</td>\n",
       "    </tr>\n",
       "    <tr>\n",
       "      <th>...</th>\n",
       "      <td>...</td>\n",
       "      <td>...</td>\n",
       "      <td>...</td>\n",
       "      <td>...</td>\n",
       "    </tr>\n",
       "    <tr>\n",
       "      <th>31284025</th>\n",
       "      <td>4862000</td>\n",
       "      <td>15611</td>\n",
       "      <td>9</td>\n",
       "      <td>2015-09-07 17:33:03</td>\n",
       "    </tr>\n",
       "    <tr>\n",
       "      <th>31284026</th>\n",
       "      <td>4862000</td>\n",
       "      <td>27815</td>\n",
       "      <td>9</td>\n",
       "      <td>2015-09-07 17:32:05</td>\n",
       "    </tr>\n",
       "    <tr>\n",
       "      <th>31284027</th>\n",
       "      <td>299167</td>\n",
       "      <td>5945</td>\n",
       "      <td>8</td>\n",
       "      <td>2010-03-29 04:24:12</td>\n",
       "    </tr>\n",
       "    <tr>\n",
       "      <th>31284028</th>\n",
       "      <td>263803</td>\n",
       "      <td>1316</td>\n",
       "      <td>9</td>\n",
       "      <td>2009-12-23 05:45:14</td>\n",
       "    </tr>\n",
       "    <tr>\n",
       "      <th>31284029</th>\n",
       "      <td>48074</td>\n",
       "      <td>1744</td>\n",
       "      <td>10</td>\n",
       "      <td>2008-04-05 11:36:20</td>\n",
       "    </tr>\n",
       "  </tbody>\n",
       "</table>\n",
       "<p>7637905 rows × 4 columns</p>\n",
       "</div>"
      ],
      "text/plain": [
       "           userid  movieid  rating            timestamp\n",
       "0         2255153       21       9  2013-03-03 10:52:53\n",
       "1         2255153       59       7  2013-03-10 13:54:51\n",
       "2         2255153       74       7  2013-04-27 16:43:35\n",
       "3         2255153      120       7  2013-03-03 10:53:57\n",
       "4         2255153      178       7  2013-03-27 15:59:13\n",
       "...           ...      ...     ...                  ...\n",
       "31284025  4862000    15611       9  2015-09-07 17:33:03\n",
       "31284026  4862000    27815       9  2015-09-07 17:32:05\n",
       "31284027   299167     5945       8  2010-03-29 04:24:12\n",
       "31284028   263803     1316       9  2009-12-23 05:45:14\n",
       "31284029    48074     1744      10  2008-04-05 11:36:20\n",
       "\n",
       "[7637905 rows x 4 columns]"
      ]
     },
     "execution_count": 15,
     "metadata": {},
     "output_type": "execute_result"
    }
   ],
   "source": [
    "train_val_"
   ]
  },
  {
   "cell_type": "code",
   "execution_count": 16,
   "metadata": {},
   "outputs": [
    {
     "data": {
      "text/html": [
       "<div>\n",
       "<style scoped>\n",
       "    .dataframe tbody tr th:only-of-type {\n",
       "        vertical-align: middle;\n",
       "    }\n",
       "\n",
       "    .dataframe tbody tr th {\n",
       "        vertical-align: top;\n",
       "    }\n",
       "\n",
       "    .dataframe thead th {\n",
       "        text-align: right;\n",
       "    }\n",
       "</style>\n",
       "<table border=\"1\" class=\"dataframe\">\n",
       "  <thead>\n",
       "    <tr style=\"text-align: right;\">\n",
       "      <th></th>\n",
       "      <th>userid</th>\n",
       "      <th>movieid</th>\n",
       "      <th>rating</th>\n",
       "      <th>timestamp</th>\n",
       "    </tr>\n",
       "  </thead>\n",
       "  <tbody>\n",
       "    <tr>\n",
       "      <th>2910550</th>\n",
       "      <td>4</td>\n",
       "      <td>120</td>\n",
       "      <td>8</td>\n",
       "      <td>1970-01-01 00:00:00</td>\n",
       "    </tr>\n",
       "    <tr>\n",
       "      <th>2911167</th>\n",
       "      <td>4</td>\n",
       "      <td>2899</td>\n",
       "      <td>7</td>\n",
       "      <td>2011-07-14 03:32:17</td>\n",
       "    </tr>\n",
       "    <tr>\n",
       "      <th>2911165</th>\n",
       "      <td>4</td>\n",
       "      <td>2615</td>\n",
       "      <td>5</td>\n",
       "      <td>2012-07-18 12:11:13</td>\n",
       "    </tr>\n",
       "    <tr>\n",
       "      <th>2911164</th>\n",
       "      <td>4</td>\n",
       "      <td>2385</td>\n",
       "      <td>5</td>\n",
       "      <td>2007-05-28 23:36:51</td>\n",
       "    </tr>\n",
       "    <tr>\n",
       "      <th>2911163</th>\n",
       "      <td>4</td>\n",
       "      <td>2298</td>\n",
       "      <td>5</td>\n",
       "      <td>2007-05-29 22:42:41</td>\n",
       "    </tr>\n",
       "    <tr>\n",
       "      <th>...</th>\n",
       "      <td>...</td>\n",
       "      <td>...</td>\n",
       "      <td>...</td>\n",
       "      <td>...</td>\n",
       "    </tr>\n",
       "    <tr>\n",
       "      <th>31203572</th>\n",
       "      <td>6838054</td>\n",
       "      <td>11617</td>\n",
       "      <td>6</td>\n",
       "      <td>2017-12-28 19:11:28</td>\n",
       "    </tr>\n",
       "    <tr>\n",
       "      <th>31203564</th>\n",
       "      <td>6838054</td>\n",
       "      <td>1535</td>\n",
       "      <td>9</td>\n",
       "      <td>2017-12-28 19:25:32</td>\n",
       "    </tr>\n",
       "    <tr>\n",
       "      <th>31203561</th>\n",
       "      <td>6838054</td>\n",
       "      <td>226</td>\n",
       "      <td>8</td>\n",
       "      <td>2017-12-28 19:15:09</td>\n",
       "    </tr>\n",
       "    <tr>\n",
       "      <th>31203586</th>\n",
       "      <td>6838054</td>\n",
       "      <td>30276</td>\n",
       "      <td>7</td>\n",
       "      <td>2017-12-28 19:23:10</td>\n",
       "    </tr>\n",
       "    <tr>\n",
       "      <th>31203576</th>\n",
       "      <td>6838054</td>\n",
       "      <td>16498</td>\n",
       "      <td>9</td>\n",
       "      <td>2017-12-28 19:23:47</td>\n",
       "    </tr>\n",
       "  </tbody>\n",
       "</table>\n",
       "<p>9966519 rows × 4 columns</p>\n",
       "</div>"
      ],
      "text/plain": [
       "           userid  movieid  rating            timestamp\n",
       "2910550         4      120       8  1970-01-01 00:00:00\n",
       "2911167         4     2899       7  2011-07-14 03:32:17\n",
       "2911165         4     2615       5  2012-07-18 12:11:13\n",
       "2911164         4     2385       5  2007-05-28 23:36:51\n",
       "2911163         4     2298       5  2007-05-29 22:42:41\n",
       "...           ...      ...     ...                  ...\n",
       "31203572  6838054    11617       6  2017-12-28 19:11:28\n",
       "31203564  6838054     1535       9  2017-12-28 19:25:32\n",
       "31203561  6838054      226       8  2017-12-28 19:15:09\n",
       "31203586  6838054    30276       7  2017-12-28 19:23:10\n",
       "31203576  6838054    16498       9  2017-12-28 19:23:47\n",
       "\n",
       "[9966519 rows x 4 columns]"
      ]
     },
     "execution_count": 16,
     "metadata": {},
     "output_type": "execute_result"
    }
   ],
   "source": [
    "testset_val_"
   ]
  },
  {
   "cell_type": "code",
   "execution_count": 14,
   "metadata": {},
   "outputs": [],
   "source": [
    "def transform_data(train, test, holdout=None, userid='userid', itemid='movieid'):\n",
    "    train_new, data_index = transform_indices(train, 'userid', 'movieid')\n",
    "    testset_new = reindex_data(test, data_index, fields='items')\n",
    "    if holdout is None:\n",
    "        return train_new, testset_new, data_index\n",
    "    holdout_new = reindex_data(holdout, data_index, fields='items')\n",
    "    return train_new, testset_new, holdout_new, data_index"
   ]
  },
  {
   "cell_type": "code",
   "execution_count": 15,
   "metadata": {},
   "outputs": [],
   "source": [
    "train_val, testset_val, holdout_val, data_index = transform_data(train_val_, testset_val_, holdout_val_, userid='userid', itemid='movieid')"
   ]
  },
  {
   "cell_type": "code",
   "execution_count": 86,
   "metadata": {},
   "outputs": [
    {
     "data": {
      "text/html": [
       "<div>\n",
       "<style scoped>\n",
       "    .dataframe tbody tr th:only-of-type {\n",
       "        vertical-align: middle;\n",
       "    }\n",
       "\n",
       "    .dataframe tbody tr th {\n",
       "        vertical-align: top;\n",
       "    }\n",
       "\n",
       "    .dataframe thead th {\n",
       "        text-align: right;\n",
       "    }\n",
       "</style>\n",
       "<table border=\"1\" class=\"dataframe\">\n",
       "  <thead>\n",
       "    <tr style=\"text-align: right;\">\n",
       "      <th></th>\n",
       "      <th>userid</th>\n",
       "      <th>movieid</th>\n",
       "      <th>rating</th>\n",
       "      <th>timestamp</th>\n",
       "    </tr>\n",
       "  </thead>\n",
       "  <tbody>\n",
       "    <tr>\n",
       "      <th>2910863</th>\n",
       "      <td>4</td>\n",
       "      <td>5855</td>\n",
       "      <td>7</td>\n",
       "      <td>2018-04-14 14:16:48</td>\n",
       "    </tr>\n",
       "    <tr>\n",
       "      <th>1371674</th>\n",
       "      <td>20</td>\n",
       "      <td>5874</td>\n",
       "      <td>7</td>\n",
       "      <td>2018-02-11 12:14:16</td>\n",
       "    </tr>\n",
       "    <tr>\n",
       "      <th>25885045</th>\n",
       "      <td>36</td>\n",
       "      <td>5867</td>\n",
       "      <td>8</td>\n",
       "      <td>2018-01-02 16:06:39</td>\n",
       "    </tr>\n",
       "    <tr>\n",
       "      <th>10577496</th>\n",
       "      <td>359</td>\n",
       "      <td>5953</td>\n",
       "      <td>7</td>\n",
       "      <td>2017-12-31 01:06:38</td>\n",
       "    </tr>\n",
       "    <tr>\n",
       "      <th>4925473</th>\n",
       "      <td>368</td>\n",
       "      <td>5418</td>\n",
       "      <td>8</td>\n",
       "      <td>2017-12-29 16:39:24</td>\n",
       "    </tr>\n",
       "    <tr>\n",
       "      <th>...</th>\n",
       "      <td>...</td>\n",
       "      <td>...</td>\n",
       "      <td>...</td>\n",
       "      <td>...</td>\n",
       "    </tr>\n",
       "    <tr>\n",
       "      <th>4651716</th>\n",
       "      <td>6835467</td>\n",
       "      <td>3987</td>\n",
       "      <td>9</td>\n",
       "      <td>2018-01-01 19:00:01</td>\n",
       "    </tr>\n",
       "    <tr>\n",
       "      <th>26279407</th>\n",
       "      <td>6835647</td>\n",
       "      <td>5502</td>\n",
       "      <td>9</td>\n",
       "      <td>2018-01-01 03:43:52</td>\n",
       "    </tr>\n",
       "    <tr>\n",
       "      <th>13947635</th>\n",
       "      <td>6837484</td>\n",
       "      <td>5218</td>\n",
       "      <td>10</td>\n",
       "      <td>2018-01-02 04:20:33</td>\n",
       "    </tr>\n",
       "    <tr>\n",
       "      <th>27633692</th>\n",
       "      <td>6838022</td>\n",
       "      <td>3590</td>\n",
       "      <td>7</td>\n",
       "      <td>2017-12-29 01:47:15</td>\n",
       "    </tr>\n",
       "    <tr>\n",
       "      <th>31203608</th>\n",
       "      <td>6838054</td>\n",
       "      <td>2651</td>\n",
       "      <td>9</td>\n",
       "      <td>2017-12-31 19:45:35</td>\n",
       "    </tr>\n",
       "  </tbody>\n",
       "</table>\n",
       "<p>34479 rows × 4 columns</p>\n",
       "</div>"
      ],
      "text/plain": [
       "           userid  movieid  rating            timestamp\n",
       "2910863         4     5855       7  2018-04-14 14:16:48\n",
       "1371674        20     5874       7  2018-02-11 12:14:16\n",
       "25885045       36     5867       8  2018-01-02 16:06:39\n",
       "10577496      359     5953       7  2017-12-31 01:06:38\n",
       "4925473       368     5418       8  2017-12-29 16:39:24\n",
       "...           ...      ...     ...                  ...\n",
       "4651716   6835467     3987       9  2018-01-01 19:00:01\n",
       "26279407  6835647     5502       9  2018-01-01 03:43:52\n",
       "13947635  6837484     5218      10  2018-01-02 04:20:33\n",
       "27633692  6838022     3590       7  2017-12-29 01:47:15\n",
       "31203608  6838054     2651       9  2017-12-31 19:45:35\n",
       "\n",
       "[34479 rows x 4 columns]"
      ]
     },
     "execution_count": 86,
     "metadata": {},
     "output_type": "execute_result"
    }
   ],
   "source": [
    "holdout_val"
   ]
  },
  {
   "cell_type": "code",
   "execution_count": 83,
   "metadata": {},
   "outputs": [],
   "source": [
    "def evaluate(recommended_items, holdout, holdout_description, topn=5):\n",
    "    itemid = holdout_description['items']\n",
    "    holdout_items = holdout[itemid].values\n",
    "    assert recommended_items.shape[0] == len(holdout_items)\n",
    "    hits_mask = recommended_items[:, :topn] == holdout_items.reshape(-1, 1)\n",
    "    # HR calculation\n",
    "    hr = np.mean(hits_mask.any(axis=1))\n",
    "    precision = []\n",
    "    for i in range(recommended_items.shape[0]):\n",
    "        precision.append(np.intersect1d(recommended_items[i], holdout_items).size / 5)\n",
    "    \n",
    "    \n",
    "    # MRR calculation\n",
    "    n_test_users = recommended_items.shape[0]\n",
    "    hit_rank = np.where(hits_mask)[1] + 1.0\n",
    "    mrr = np.sum(1 / hit_rank) / n_test_users\n",
    "    # coverage calculation\n",
    "    n_items = holdout_description['n_items']\n",
    "    cov = np.unique(recommended_items).size / n_items\n",
    "    return hr, mrr, cov, np.mean(precision)\n"
   ]
  },
  {
   "cell_type": "code",
   "execution_count": 79,
   "metadata": {},
   "outputs": [
    {
     "data": {
      "text/plain": [
       "34479"
      ]
     },
     "execution_count": 79,
     "metadata": {},
     "output_type": "execute_result"
    }
   ],
   "source": [
    "holdout_val['movieid'].values.size"
   ]
  },
  {
   "cell_type": "code",
   "execution_count": 84,
   "metadata": {},
   "outputs": [
    {
     "data": {
      "text/plain": [
       "(0.048435279445459556,\n",
       " 0.02726007134777691,\n",
       " 0.4632646276595745,\n",
       " 0.9348588996200586)"
      ]
     },
     "execution_count": 84,
     "metadata": {},
     "output_type": "execute_result"
    }
   ],
   "source": [
    "recs = topn_recommendations(scores, topn=5)\n",
    "evaluate(recs, holdout_val, data_description)"
   ]
  },
  {
   "cell_type": "code",
   "execution_count": 45,
   "metadata": {},
   "outputs": [
    {
     "data": {
      "text/plain": [
       "array([4, 6])"
      ]
     },
     "execution_count": 45,
     "metadata": {},
     "output_type": "execute_result"
    }
   ],
   "source": [
    "a = np.array([[1, 2], [3, 4]])\n",
    "a.sum(axis=0)"
   ]
  },
  {
   "cell_type": "code",
   "execution_count": 17,
   "metadata": {},
   "outputs": [],
   "source": [
    "def ssvd_grid_search(ranks, scalings, training, testset, holdout, data_description, topn = 20):\n",
    "    max_rank = max(ranks)\n",
    "    config = {'rank': max_rank}\n",
    "    results = {}\n",
    "    for scaling in tqdm(scalings):\n",
    "        config['scaling'] = scaling\n",
    "        item_factors, scaling_weights = build_ssvd_model(config, training, data_description)\n",
    "        for rank in ranks:\n",
    "            item_factors_trunc = item_factors[:, :rank]\n",
    "            scores = ssvd_model_scoring((item_factors_trunc, scaling_weights), testset, data_description)\n",
    "            recs = topn_recommendations(scores, topn=topn)\n",
    "            results[(rank, scaling)] = evaluate(recs, holdout, data_description)\n",
    "    return results\n",
    "\n",
    "def build_ssvd_model(config, data, data_description):\n",
    "    source_matrix = generate_interactions_matrix(data, data_description, rebase_users=False)\n",
    "    scaled_matrix, scaling_weights = rescale_matrix(source_matrix, config['scaling'])\n",
    "    *_, vt = svds(scaled_matrix, k=config['rank'], return_singular_vectors='vh')\n",
    "    item_factors = np.ascontiguousarray(vt[::-1, :].T)\n",
    "    return item_factors, scaling_weights\n",
    "\n",
    "def rescale_matrix(matrix, scaling_factor):\n",
    "    frequencies = matrix.getnnz(axis = 0)\n",
    "    scaling_weights = np.power(frequencies, 0.5 * (scaling_factor - 1))\n",
    "    return matrix.dot(diags(scaling_weights)), scaling_weights\n",
    "    \n",
    "def ssvd_model_scoring(params, data, data_description):\n",
    "    item_factors, scaling_weights = params\n",
    "    test_matrix = generate_interactions_matrix(data, data_description, rebase_users=True)\n",
    "    scores = test_matrix.dot(item_factors) @ item_factors.T\n",
    "    downvote_seen_items(scores, data, data_description)\n",
    "    return scores"
   ]
  },
  {
   "cell_type": "code",
   "execution_count": 18,
   "metadata": {},
   "outputs": [
    {
     "data": {
      "text/plain": [
       "[16, 24, 32, 48, 64, 96, 128, 192, 256, 384, 512, 768]"
      ]
     },
     "execution_count": 18,
     "metadata": {},
     "output_type": "execute_result"
    }
   ],
   "source": [
    "scalings = [0.2, 0.4, 0.6]\n",
    "ranks = [b * 2 ** i for i in range(3, 9) for b in [2, 3]]\n",
    "ranks"
   ]
  },
  {
   "cell_type": "code",
   "execution_count": 19,
   "metadata": {},
   "outputs": [],
   "source": [
    "data_description = dict(\n",
    "    users = data_index['users'].name,\n",
    "    items = data_index['items'].name,\n",
    "    feedback = 'rating',\n",
    "    n_users = len(data_index['users']),\n",
    "    n_items = len(data_index['items'])\n",
    ")"
   ]
  },
  {
   "cell_type": "code",
   "execution_count": 20,
   "metadata": {},
   "outputs": [
    {
     "name": "stderr",
     "output_type": "stream",
     "text": [
      "100%|██████████| 3/3 [06:44<00:00, 134.80s/it]\n"
     ]
    }
   ],
   "source": [
    "ssvd_results = ssvd_grid_search(ranks, scalings, train_val, testset_val, holdout_val, data_description, topn = 5)"
   ]
  },
  {
   "cell_type": "code",
   "execution_count": 21,
   "metadata": {},
   "outputs": [
    {
     "data": {
      "text/plain": [
       "{(16, 0.2): (0.031961483801734386, 0.017380144435743497, 0.18617021276595744),\n",
       " (24, 0.2): (0.03338263870761913, 0.01910293221961194, 0.21974734042553193),\n",
       " (32, 0.2): (0.03547086632442936, 0.02022003731740093, 0.24750664893617022),\n",
       " (48, 0.2): (0.037037037037037035, 0.02176252211491052, 0.28407579787234044),\n",
       " (64, 0.2): (0.0388352330404014, 0.0220530371143788, 0.30851063829787234),\n",
       " (96, 0.2): (0.039908350010151104, 0.022947784641859297, 0.3390957446808511),\n",
       " (128, 0.2): (0.04350474201687984, 0.02486537699275888, 0.3617021276595745),\n",
       " (192, 0.2): (0.04541895066562255, 0.026564478861529243, 0.40242686170212766),\n",
       " (256, 0.2): (0.046550073958061426, 0.02734901437590031, 0.42470079787234044),\n",
       " (384, 0.2): (0.048435279445459556, 0.02726007134777691, 0.4632646276595745),\n",
       " (512, 0.2): (0.047942225702601586, 0.026793120450129063, 0.48487367021276595),\n",
       " (768, 0.2): (0.046231039183270976, 0.02580266249021143, 0.5272606382978723),\n",
       " (16, 0.4): (0.03413672090257838, 0.019241180622021133, 0.17071143617021275),\n",
       " (24, 0.4): (0.03544186316308478, 0.020496534122219322, 0.19747340425531915),\n",
       " (32, 0.4): (0.036543983294179065, 0.021583185900596498, 0.21808510638297873),\n",
       " (48, 0.4): (0.03845819194292178, 0.022667420748861626, 0.24800531914893617),\n",
       " (64, 0.4): (0.04022738478494156, 0.023556367644073206, 0.27293882978723405),\n",
       " (96, 0.4): (0.04269265349923142, 0.024954803406904685, 0.3068484042553192),\n",
       " (128, 0.4): (0.04449084950259578, 0.025686649844833088, 0.33311170212765956),\n",
       " (192, 0.4): (0.04538994750427797, 0.025821031159063004, 0.3670212765957447),\n",
       " (256, 0.4): (0.04498390324545375, 0.025039395960826393, 0.39095744680851063),\n",
       " (384, 0.4): (0.04199657762696134, 0.022492435008749288, 0.4375),\n",
       " (512, 0.4): (0.04016937846225239, 0.02151841217359359, 0.46575797872340424),\n",
       " (768, 0.4): (0.036369964326111545, 0.01996045902336688, 0.510970744680851),\n",
       " (16, 0.6): (0.03422373038661214, 0.019612904473254252, 0.14810505319148937),\n",
       " (24, 0.6): (0.03642797064880072, 0.021161673289055175, 0.17237367021276595),\n",
       " (32, 0.6): (0.03718205284375997, 0.02220772064154993, 0.1924867021276596),\n",
       " (48, 0.6): (0.03921227413788103, 0.022671287837040907, 0.2144281914893617),\n",
       " (64, 0.6): (0.040459410075698254, 0.023617757668919243, 0.23503989361702127),\n",
       " (96, 0.6): (0.04072043852779953, 0.023624525073232983, 0.2632978723404255),\n",
       " (128, 0.6): (0.04132950491603585, 0.02355926796020766, 0.2859042553191489),\n",
       " (192, 0.6): (0.04019838162359697, 0.021544998404826127, 0.3238031914893617),\n",
       " (256, 0.6): (0.03869021723367847, 0.020577742973984164, 0.3507313829787234),\n",
       " (384, 0.6): (0.036050929551321095, 0.01942535069655926, 0.390625),\n",
       " (512, 0.6): (0.034194727225267556, 0.01830099480843412, 0.41356382978723405),\n",
       " (768, 0.6): (0.03222251225383567, 0.01760540232218645, 0.44913563829787234)}"
      ]
     },
     "execution_count": 21,
     "metadata": {},
     "output_type": "execute_result"
    }
   ],
   "source": [
    "ssvd_results"
   ]
  },
  {
   "cell_type": "code",
   "execution_count": 27,
   "metadata": {},
   "outputs": [
    {
     "data": {
      "text/plain": [
       "(384, 0.2)"
      ]
     },
     "execution_count": 27,
     "metadata": {},
     "output_type": "execute_result"
    }
   ],
   "source": [
    "pd.Series(ssvd_results).idxmax()"
   ]
  },
  {
   "cell_type": "code",
   "execution_count": 23,
   "metadata": {},
   "outputs": [],
   "source": [
    "best_config = dict(\n",
    "    zip(\n",
    "        ['rank', 'scaling'],\n",
    "        # pd.Series(ssvd_results).idxmax()\n",
    "        (384, 0.2)\n",
    "    )\n",
    ")"
   ]
  },
  {
   "cell_type": "code",
   "execution_count": 24,
   "metadata": {},
   "outputs": [],
   "source": [
    "ssvd_params = build_ssvd_model(best_config, train_val, data_description)"
   ]
  },
  {
   "cell_type": "code",
   "execution_count": 30,
   "metadata": {},
   "outputs": [],
   "source": [
    "scores = ssvd_model_scoring(ssvd_params, testset_val, data_description)\n"
   ]
  },
  {
   "cell_type": "code",
   "execution_count": 57,
   "metadata": {},
   "outputs": [
    {
     "name": "stdout",
     "output_type": "stream",
     "text": [
      "[560 354 300 234 222] (5,) [0 0 0 ... 1 0 0] (34479,)\n"
     ]
    },
    {
     "data": {
      "text/plain": [
       "(0.048435279445459556,\n",
       " 0.02726007134777691,\n",
       " 0.4632646276595745,\n",
       " 0.048435279445459556)"
      ]
     },
     "execution_count": 57,
     "metadata": {},
     "output_type": "execute_result"
    }
   ],
   "source": [
    "recs = topn_recommendations(scores, topn=topn)\n",
    "evaluate(recs, holdout_val, data_description)"
   ]
  },
  {
   "cell_type": "code",
   "execution_count": 32,
   "metadata": {},
   "outputs": [
    {
     "data": {
      "text/html": [
       "<div>\n",
       "<style scoped>\n",
       "    .dataframe tbody tr th:only-of-type {\n",
       "        vertical-align: middle;\n",
       "    }\n",
       "\n",
       "    .dataframe tbody tr th {\n",
       "        vertical-align: top;\n",
       "    }\n",
       "\n",
       "    .dataframe thead th {\n",
       "        text-align: right;\n",
       "    }\n",
       "</style>\n",
       "<table border=\"1\" class=\"dataframe\">\n",
       "  <thead>\n",
       "    <tr style=\"text-align: right;\">\n",
       "      <th></th>\n",
       "      <th>userid</th>\n",
       "      <th>movieid</th>\n",
       "      <th>rating</th>\n",
       "      <th>timestamp</th>\n",
       "    </tr>\n",
       "  </thead>\n",
       "  <tbody>\n",
       "    <tr>\n",
       "      <th>2910863</th>\n",
       "      <td>4</td>\n",
       "      <td>5855</td>\n",
       "      <td>7</td>\n",
       "      <td>2018-04-14 14:16:48</td>\n",
       "    </tr>\n",
       "    <tr>\n",
       "      <th>1371674</th>\n",
       "      <td>20</td>\n",
       "      <td>5874</td>\n",
       "      <td>7</td>\n",
       "      <td>2018-02-11 12:14:16</td>\n",
       "    </tr>\n",
       "    <tr>\n",
       "      <th>25885045</th>\n",
       "      <td>36</td>\n",
       "      <td>5867</td>\n",
       "      <td>8</td>\n",
       "      <td>2018-01-02 16:06:39</td>\n",
       "    </tr>\n",
       "    <tr>\n",
       "      <th>10577496</th>\n",
       "      <td>359</td>\n",
       "      <td>5953</td>\n",
       "      <td>7</td>\n",
       "      <td>2017-12-31 01:06:38</td>\n",
       "    </tr>\n",
       "    <tr>\n",
       "      <th>4925473</th>\n",
       "      <td>368</td>\n",
       "      <td>5418</td>\n",
       "      <td>8</td>\n",
       "      <td>2017-12-29 16:39:24</td>\n",
       "    </tr>\n",
       "    <tr>\n",
       "      <th>...</th>\n",
       "      <td>...</td>\n",
       "      <td>...</td>\n",
       "      <td>...</td>\n",
       "      <td>...</td>\n",
       "    </tr>\n",
       "    <tr>\n",
       "      <th>4651716</th>\n",
       "      <td>6835467</td>\n",
       "      <td>3987</td>\n",
       "      <td>9</td>\n",
       "      <td>2018-01-01 19:00:01</td>\n",
       "    </tr>\n",
       "    <tr>\n",
       "      <th>26279407</th>\n",
       "      <td>6835647</td>\n",
       "      <td>5502</td>\n",
       "      <td>9</td>\n",
       "      <td>2018-01-01 03:43:52</td>\n",
       "    </tr>\n",
       "    <tr>\n",
       "      <th>13947635</th>\n",
       "      <td>6837484</td>\n",
       "      <td>5218</td>\n",
       "      <td>10</td>\n",
       "      <td>2018-01-02 04:20:33</td>\n",
       "    </tr>\n",
       "    <tr>\n",
       "      <th>27633692</th>\n",
       "      <td>6838022</td>\n",
       "      <td>3590</td>\n",
       "      <td>7</td>\n",
       "      <td>2017-12-29 01:47:15</td>\n",
       "    </tr>\n",
       "    <tr>\n",
       "      <th>31203608</th>\n",
       "      <td>6838054</td>\n",
       "      <td>2651</td>\n",
       "      <td>9</td>\n",
       "      <td>2017-12-31 19:45:35</td>\n",
       "    </tr>\n",
       "  </tbody>\n",
       "</table>\n",
       "<p>34479 rows × 4 columns</p>\n",
       "</div>"
      ],
      "text/plain": [
       "           userid  movieid  rating            timestamp\n",
       "2910863         4     5855       7  2018-04-14 14:16:48\n",
       "1371674        20     5874       7  2018-02-11 12:14:16\n",
       "25885045       36     5867       8  2018-01-02 16:06:39\n",
       "10577496      359     5953       7  2017-12-31 01:06:38\n",
       "4925473       368     5418       8  2017-12-29 16:39:24\n",
       "...           ...      ...     ...                  ...\n",
       "4651716   6835467     3987       9  2018-01-01 19:00:01\n",
       "26279407  6835647     5502       9  2018-01-01 03:43:52\n",
       "13947635  6837484     5218      10  2018-01-02 04:20:33\n",
       "27633692  6838022     3590       7  2017-12-29 01:47:15\n",
       "31203608  6838054     2651       9  2017-12-31 19:45:35\n",
       "\n",
       "[34479 rows x 4 columns]"
      ]
     },
     "execution_count": 32,
     "metadata": {},
     "output_type": "execute_result"
    }
   ],
   "source": [
    "holdout_val"
   ]
  },
  {
   "cell_type": "code",
   "execution_count": 33,
   "metadata": {},
   "outputs": [
    {
     "data": {
      "text/plain": [
       "Int64Index([    1,     5,     6,     7,     8,    15,    16,    17,    18,\n",
       "               19,\n",
       "            ...\n",
       "            36501, 36502, 36519, 36520, 36524, 36539, 36542, 36825, 36848,\n",
       "            36861],\n",
       "           dtype='int64', name='movieid', length=6016)"
      ]
     },
     "execution_count": 33,
     "metadata": {},
     "output_type": "execute_result"
    }
   ],
   "source": [
    "data_index['items']"
   ]
  },
  {
   "cell_type": "code",
   "execution_count": 35,
   "metadata": {},
   "outputs": [
    {
     "data": {
      "text/plain": [
       "(0.00026102845210127906, 0.0001435656486557035, 1.0)"
      ]
     },
     "execution_count": 35,
     "metadata": {},
     "output_type": "execute_result"
    }
   ],
   "source": [
    "user_recs = np.zeros((holdout_val.userid.nunique(), 5))\n",
    "for i in range(len(user_recs)):\n",
    "    user_recs[i, :] = np.random.choice(data_index['items'], 5)\n",
    "evaluate(user_recs, holdout_val, data_description)"
   ]
  },
  {
   "cell_type": "code",
   "execution_count": 38,
   "metadata": {},
   "outputs": [
    {
     "data": {
      "text/plain": [
       "(0.0019722149714318862, 0.0019722149714318862, 0.0008311170212765958)"
      ]
     },
     "execution_count": 38,
     "metadata": {},
     "output_type": "execute_result"
    }
   ],
   "source": [
    "user_recs = np.zeros((holdout_val.userid.nunique(), 5))\n",
    "for i in range(len(user_recs)):\n",
    "    user_recs[i, :] = [20, 269, 22319, 6702, 1535]\n",
    "evaluate(user_recs, holdout_val, data_description)"
   ]
  },
  {
   "cell_type": "code",
   "execution_count": 36,
   "metadata": {},
   "outputs": [
    {
     "data": {
      "text/plain": [
       "Int64Index([    1,     5,     6,     7,     8,    15,    16,    17,    18,\n",
       "               19,\n",
       "            ...\n",
       "            36501, 36502, 36519, 36520, 36524, 36539, 36542, 36825, 36848,\n",
       "            36861],\n",
       "           dtype='int64', name='movieid', length=6016)"
      ]
     },
     "execution_count": 36,
     "metadata": {},
     "output_type": "execute_result"
    }
   ],
   "source": []
  },
  {
   "cell_type": "code",
   "execution_count": null,
   "metadata": {},
   "outputs": [],
   "source": []
  },
  {
   "cell_type": "code",
   "execution_count": 25,
   "metadata": {},
   "outputs": [
    {
     "data": {
      "text/plain": [
       "array([[-0.04290313,  0.0356894 , -0.04045547, ...,  0.01433141,\n",
       "        -0.01826316, -0.0005752 ],\n",
       "       [-0.02952815,  0.03688406, -0.02922705, ...,  0.01791157,\n",
       "        -0.01926287, -0.00709241],\n",
       "       [-0.03680309,  0.03662262, -0.02320313, ..., -0.03621926,\n",
       "        -0.01317875, -0.02844686],\n",
       "       ...,\n",
       "       [-0.00012369, -0.00014894, -0.00023153, ..., -0.00093735,\n",
       "         0.00146778,  0.00151106],\n",
       "       [-0.00026807, -0.00087081, -0.00042965, ...,  0.00541199,\n",
       "         0.00826579, -0.01536734],\n",
       "       [-0.00027395, -0.00087632, -0.00052325, ...,  0.00758282,\n",
       "         0.00303888, -0.00079305]])"
      ]
     },
     "execution_count": 25,
     "metadata": {},
     "output_type": "execute_result"
    }
   ],
   "source": [
    "ssvd_params[0]"
   ]
  },
  {
   "cell_type": "code",
   "execution_count": 31,
   "metadata": {},
   "outputs": [],
   "source": [
    "np.save('item_matrix_v4', ssvd_params[0])"
   ]
  },
  {
   "cell_type": "code",
   "execution_count": 32,
   "metadata": {},
   "outputs": [],
   "source": [
    "np.save('weights_v4', ssvd_params[1])"
   ]
  },
  {
   "cell_type": "code",
   "execution_count": 33,
   "metadata": {},
   "outputs": [],
   "source": [
    "np.save('itemid_v2', data_index['items'])"
   ]
  }
 ],
 "metadata": {
  "kernelspec": {
   "display_name": "base",
   "language": "python",
   "name": "python3"
  },
  "language_info": {
   "codemirror_mode": {
    "name": "ipython",
    "version": 3
   },
   "file_extension": ".py",
   "mimetype": "text/x-python",
   "name": "python",
   "nbconvert_exporter": "python",
   "pygments_lexer": "ipython3",
   "version": "3.8.16"
  },
  "orig_nbformat": 4
 },
 "nbformat": 4,
 "nbformat_minor": 2
}
