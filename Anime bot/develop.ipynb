{
 "cells": [
  {
   "cell_type": "code",
   "execution_count": 32,
   "id": "d0847d87",
   "metadata": {},
   "outputs": [
    {
     "data": {
      "text/plain": [
       "<function TextIOWrapper.close()>"
      ]
     },
     "execution_count": 32,
     "metadata": {},
     "output_type": "execute_result"
    }
   ],
   "source": [
    "import numpy as np\n",
    "import json\n",
    "from utils import *\n",
    "\n",
    "item_matrix = np.load('item_matrix.npy', allow_pickle=True )\n",
    "item_id = np.load('itemid.npy', allow_pickle=True)\n",
    "wts = np.load('weights.npy', allow_pickle=True)\n",
    "\n",
    "f = open('anime_id2name.json')\n",
    "\n",
    "id2name = json.load(f)\n",
    "f.close"
   ]
  },
  {
   "cell_type": "code",
   "execution_count": 1,
   "id": "08738f18",
   "metadata": {},
   "outputs": [],
   "source": [
    "from load import *"
   ]
  },
  {
   "cell_type": "code",
   "execution_count": 8,
   "id": "9386b2b7",
   "metadata": {},
   "outputs": [
    {
     "data": {
      "text/plain": [
       "1"
      ]
     },
     "execution_count": 8,
     "metadata": {},
     "output_type": "execute_result"
    }
   ],
   "source": [
    "np.where(item_id == 5)[0][0]"
   ]
  },
  {
   "cell_type": "code",
   "execution_count": 33,
   "id": "56337a6d",
   "metadata": {},
   "outputs": [
    {
     "name": "stdout",
     "output_type": "stream",
     "text": [
      "CPU times: user 4.14 s, sys: 1.54 s, total: 5.68 s\n",
      "Wall time: 1.73 s\n"
     ]
    }
   ],
   "source": [
    "%%time\n",
    "M = item_matrix @ item_matrix.T"
   ]
  },
  {
   "cell_type": "code",
   "execution_count": 34,
   "id": "0e25103c",
   "metadata": {},
   "outputs": [],
   "source": [
    "import telebot\n",
    "from telebot import types\n",
    "\n",
    "ratings = {}\n",
    "request_user = {}\n",
    "API_TOKEN = '5677096457:AAHYpRxfaCw9WnJjRybbF-igrxK3XAe3cXo'\n",
    "bot = telebot.TeleBot(API_TOKEN)\n",
    "\n",
    "test_ids = [20, 21, 269, 136]\n",
    "\n",
    "\n",
    "@bot.message_handler(commands=['suggest'])\n",
    "def echo_message(message):\n",
    "    name = message.from_user.username\n",
    "    if name not in ratings:\n",
    "        bot.send_message(message.chat.id,\n",
    "                             text=f'Not enough info')\n",
    "    else:\n",
    "        p = np.zeros(13686)\n",
    "        #print(ratings[name])\n",
    "        for anime_id, score in ratings[name].items():\n",
    "            p[anime_id] = score\n",
    "        recs = M @ p\n",
    "        recs = downvote_seen_items(recs, test_ids)\n",
    "        for id_ in topn_recommendations(recs):\n",
    "            bot.send_message(message.chat.id,\n",
    "                             text=f'Consider {id2name[str(item_id[id_])]}')\n",
    "        \n",
    "    \n",
    "                \n",
    "@bot.message_handler(commands=['rate'])\n",
    "def echo_message(message):\n",
    "    name = message.from_user.username\n",
    "    if name not in ratings:\n",
    "        ratings[name] = {}\n",
    "\n",
    "    keyboard = types.InlineKeyboardMarkup()\n",
    "    keys = []\n",
    "    for i in range(1, 11):\n",
    "        keys.append(types.InlineKeyboardButton(text=f'{i}', callback_data=i))\n",
    "    keyboard.add(*keys)\n",
    "    \n",
    "    anime_id = np.random.randint(13686)\n",
    "    request_user[name] = anime_id\n",
    "\n",
    "    bot.send_message(\n",
    "        message.from_user.id, \n",
    "        text=f'Please rate {id2name[str(item_id[anime_id])]}', \n",
    "        reply_markup=keyboard\n",
    "        )\n",
    "    \n",
    "\n",
    "@bot.callback_query_handler(func=lambda call: True)\n",
    "def callback_worker(call):\n",
    "    name = call.from_user.username\n",
    "    ratings[name][request_user[name]] = call.data\n",
    "    bot.edit_message_text(chat_id=call.message.chat.id, message_id=call.message.id,\n",
    "                           text=f'{id2name[str(item_id[request_user[name]])]}: {call.data}')\n",
    "    \n",
    "        \n",
    "\n",
    "    \n",
    "@bot.message_handler(content_types=['text'])\n",
    "def echo_message(message):\n",
    "    name = message.from_user.username \n",
    "    if name in request_user:\n",
    "        ratings[name][request_user[name]] = float(message.text)      \n",
    "                \n",
    "    "
   ]
  },
  {
   "cell_type": "code",
   "execution_count": 35,
   "id": "bb81c554",
   "metadata": {},
   "outputs": [],
   "source": [
    "bot.polling()"
   ]
  },
  {
   "cell_type": "code",
   "execution_count": null,
   "id": "b3644417",
   "metadata": {},
   "outputs": [],
   "source": []
  },
  {
   "cell_type": "code",
   "execution_count": null,
   "id": "11d9098b",
   "metadata": {},
   "outputs": [],
   "source": []
  }
 ],
 "metadata": {
  "kernelspec": {
   "display_name": "Python 3 (ipykernel)",
   "language": "python",
   "name": "python3"
  },
  "language_info": {
   "codemirror_mode": {
    "name": "ipython",
    "version": 3
   },
   "file_extension": ".py",
   "mimetype": "text/x-python",
   "name": "python",
   "nbconvert_exporter": "python",
   "pygments_lexer": "ipython3",
   "version": "3.9.6"
  }
 },
 "nbformat": 4,
 "nbformat_minor": 5
}
