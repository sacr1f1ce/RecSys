{
 "cells": [
  {
   "cell_type": "code",
   "execution_count": 1,
   "metadata": {},
   "outputs": [],
   "source": [
    "import zipfile\n",
    "\n",
    "import numpy as np\n",
    "import pandas as pd\n",
    "from scipy.sparse import diags\n",
    "from scipy.sparse.linalg import svds\n",
    "from tqdm import tqdm\n",
    "\n",
    "from dataprep import transform_indices, reindex_data, generate_interactions_matrix\n",
    "from evaluation import downvote_seen_items, topn_recommendations"
   ]
  },
  {
   "cell_type": "markdown",
   "metadata": {},
   "source": [
    "# getting data from Kaggle"
   ]
  },
  {
   "cell_type": "code",
   "execution_count": 2,
   "metadata": {},
   "outputs": [],
   "source": [
    "competition_name = \"skoltech-recommender-systems-challenge-2023\""
   ]
  },
  {
   "cell_type": "code",
   "execution_count": 8,
   "metadata": {},
   "outputs": [
    {
     "name": "stdout",
     "output_type": "stream",
     "text": [
      "Warning: Your Kaggle API key is readable by other users on this system! To fix this, you can run 'chmod 600 /Users/marknuzhnov/.kaggle/kaggle.json'\n",
      "Downloading skoltech-recommender-systems-challenge-2023.zip to /Users/marknuzhnov/Downloads/Kaggle\n",
      " 98%|█████████████████████████████████████▎| 86.0M/87.6M [00:03<00:00, 37.6MB/s]\n",
      "100%|██████████████████████████████████████| 87.6M/87.6M [00:03<00:00, 26.5MB/s]\n"
     ]
    }
   ],
   "source": [
    "!kaggle competitions download -c {competition_name}"
   ]
  },
  {
   "cell_type": "code",
   "execution_count": 9,
   "metadata": {},
   "outputs": [],
   "source": [
    "with zipfile.ZipFile(\"skoltech-recommender-systems-challenge-2023.zip\",\"r\") as z:\n",
    "    z.extractall(\".\")"
   ]
  },
  {
   "cell_type": "code",
   "execution_count": 39,
   "metadata": {},
   "outputs": [],
   "source": [
    "training_source = pd.read_csv('training')"
   ]
  },
  {
   "cell_type": "code",
   "execution_count": 40,
   "metadata": {},
   "outputs": [],
   "source": [
    "testset_source = pd.read_csv('testset')"
   ]
  },
  {
   "cell_type": "markdown",
   "metadata": {},
   "source": [
    "# Convenience functions"
   ]
  },
  {
   "cell_type": "code",
   "execution_count": 41,
   "metadata": {},
   "outputs": [],
   "source": [
    "def plot_monthly_activity(data, ax=None, label=None, timeid='timestamp'):\n",
    "    return (data\n",
    "        .set_index(pd.to_datetime(data[timeid], unit='s'))\n",
    "        .resample('M').size()\n",
    "        .plot(ax=ax, logy=True, label=label, xlabel='Month',\n",
    "              title='Monthly rating activity', legend=label is not None)\n",
    "    )"
   ]
  },
  {
   "cell_type": "markdown",
   "metadata": {},
   "source": [
    "## data splitting"
   ]
  },
  {
   "cell_type": "code",
   "execution_count": 42,
   "metadata": {},
   "outputs": [],
   "source": [
    "def timepoint_split(data, time_split_q=0.95):\n",
    "    \"\"\"\n",
    "    Split data into training, testset, and holdout datasets based on a timepoint split\n",
    "    and according to the `warm-start` evaluation strategy.\n",
    "\n",
    "    Parameters\n",
    "    ----------\n",
    "    data : pd.DataFrame\n",
    "        The input dataset containing columns `userid`, `movieid`, and `timestamp`.\n",
    "    time_split_q : float, optional\n",
    "        The quantile value used to split the dataset based on the `timestamp` column.\n",
    "        Default is 0.95.\n",
    "\n",
    "    Returns\n",
    "    -------\n",
    "    Tuple[pd.DataFrame, pd.DataFrame, pd.DataFrame]\n",
    "        A tuple of three pandas DataFrames: training, testset, and holdout.\n",
    "        `training` is a subset of `data` used for training the recommender system.\n",
    "        `testset` is a subset of `data` used for generating recommendations for the test users.\n",
    "        `holdout` is a subset excluded from `testset` containing only the most recent interactions for each test user.\n",
    "\n",
    "    Notes\n",
    "    -----\n",
    "    The function splits the input `data` into three subsets: `training`, `testset`, and `holdout`.\n",
    "    The split is performed based on the `timestamp` column of `data`, using `time_split_q` as the quantile value.\n",
    "    The `holdout` dataset contains only the immediate interactions following the fixed timepoint for each test user from the `testset`.\n",
    "    The set of users in `training` is disjoint with the set of users in the `testset`, which implements the `warm-start` scenario.\n",
    "    \"\"\"    \n",
    "    timepoint = data.timestamp.quantile(q=time_split_q, interpolation='nearest')\n",
    "    test_ = data.query('timestamp >= @timepoint')\n",
    "    rest_ = data.drop(test_.index)\n",
    "    holdout_ = (\n",
    "        test_\n",
    "        .sort_values('timestamp')\n",
    "        .drop_duplicates(subset=['userid'], keep='first')\n",
    "    )\n",
    "    # the holdout dataframe contains interactions closest to certain timepoint from the right,\n",
    "    # i.e., the corresponding items are the first in each test user profile after this timepoint\n",
    "    training = rest_.query('userid not in @holdout_.userid')\n",
    "    train_items = training.movieid.unique()\n",
    "    testset_ = rest_.query('userid in @holdout_.userid and movieid in @train_items')\n",
    "    test_users = testset_.userid.unique()\n",
    "    holdout = holdout_.query(\n",
    "        # if user is not in `test_users` then no evluation is possible,\n",
    "        # if item is not in `train_items` it's cold start -> must be excluded\n",
    "        'userid in @test_users and movieid in @train_items'\n",
    "    ).sort_values('userid')\n",
    "    testset = testset_.query(\n",
    "        # make sure testset and holdout contain the same set of users\n",
    "        'userid in @holdout.userid'\n",
    "    ).sort_values('userid')\n",
    "    return training, testset, holdout"
   ]
  },
  {
   "cell_type": "markdown",
   "metadata": {},
   "source": [
    "## kaggle solution format"
   ]
  },
  {
   "cell_type": "code",
   "execution_count": 43,
   "metadata": {},
   "outputs": [],
   "source": [
    "def save_solution(recs_array, useridx, itemidx, filepath):\n",
    "    \"\"\"\n",
    "    Save a solution for Kaggle competition in the required format.\n",
    "\n",
    "    Parameters \n",
    "    ----------\n",
    "    recs_array (numpy.ndarray): Array of recommended items. \n",
    "    useridx (pandas.Index): Test user indices in the original (source) representation. \n",
    "    itemidx (pandas.Index): Mapping from internal to orignial representation of item indices. \n",
    "    filepath (str): Path to save the solution file. \n",
    "\n",
    "    Returns\n",
    "    -------\n",
    "    None: The function saves the solution file in the csv format at the specified path. \n",
    "\n",
    "    Notes\n",
    "    -----\n",
    "    The code creates a dataframe containing user IDs and a list of recommended items for each user.\n",
    "    It then melts the dataframe so that each row contains one recommended item per user.\n",
    "    Finally, it saves the melted dataframe to a file at the specified filepath.\n",
    "    \"\"\"\n",
    "    rec_items = itemidx.take(recs_array).values\n",
    "    solution = pd.DataFrame({\n",
    "        'userid': useridx,\n",
    "        'movieid': [list(recs) for recs in rec_items]\n",
    "    })\n",
    "    sol_melt = solution.set_index('userid')['movieid'].explode().reset_index()\n",
    "    sol_melt.to_csv(filepath, index=False)"
   ]
  },
  {
   "cell_type": "markdown",
   "metadata": {},
   "source": [
    "To submit a solution, you can use he following command directly from a notebook cell:  \n",
    "\n",
    "```\n",
    "!kaggle competitions submit -c {competition_name} -f {filepath} -m 'my new submission'\n",
    "```"
   ]
  },
  {
   "cell_type": "code",
   "execution_count": 53,
   "metadata": {},
   "outputs": [],
   "source": [
    "def transform_data(train, test, holdout=None, userid='userid', itemid='movieid'):\n",
    "    train_new, data_index = transform_indices(train, 'userid', 'movieid')\n",
    "    testset_new = reindex_data(test, data_index, fields='items')\n",
    "    if holdout is None:\n",
    "        return train_new, testset_new, data_index\n",
    "    holdout_new = reindex_data(holdout, data_index, fields='items')\n",
    "    return train_new, testset_new, holdout_new, data_index\n",
    "\n",
    "\n",
    "train_val, testset_val, holdout_val, data_index = transform_data(train_val_, testset_val_, holdout_val, userid='userid', itemid='movieid')"
   ]
  },
  {
   "cell_type": "code",
   "execution_count": 54,
   "metadata": {},
   "outputs": [],
   "source": [
    "data_description = dict(\n",
    "    users = data_index['users'].name,\n",
    "    items = data_index['items'].name,\n",
    "    feedback = 'rating',\n",
    "    n_users = len(data_index['users']),\n",
    "    n_items = len(data_index['items'])\n",
    ")"
   ]
  },
  {
   "cell_type": "markdown",
   "metadata": {},
   "source": [
    "# Evaluation setup"
   ]
  },
  {
   "cell_type": "code",
   "execution_count": 55,
   "metadata": {},
   "outputs": [],
   "source": [
    "topn = 20"
   ]
  },
  {
   "cell_type": "code",
   "execution_count": 56,
   "metadata": {},
   "outputs": [],
   "source": [
    "def evaluate(recommended_items, holdout, holdout_description, topn=10):\n",
    "    itemid = holdout_description['items']\n",
    "    holdout_items = holdout[itemid].values\n",
    "    assert recommended_items.shape[0] == len(holdout_items)\n",
    "    hits_mask = recommended_items[:, :topn] == holdout_items.reshape(-1, 1)\n",
    "    # MRR calculation\n",
    "    n_test_users = recommended_items.shape[0]\n",
    "    hit_rank = np.where(hits_mask)[1] + 1.0\n",
    "    # NDCG\n",
    "    ndcg_pu = 1.0 / np.log2(hit_rank + 1)\n",
    "    ndcg = np.sum(ndcg_pu) / n_test_users\n",
    "    \n",
    "    return ndcg"
   ]
  },
  {
   "cell_type": "markdown",
   "metadata": {},
   "source": [
    "# 50 pts baseline"
   ]
  },
  {
   "cell_type": "markdown",
   "metadata": {},
   "source": [
    "### grid-search"
   ]
  },
  {
   "cell_type": "code",
   "execution_count": 57,
   "metadata": {},
   "outputs": [
    {
     "data": {
      "text/plain": [
       "[8, 12, 16, 24, 32, 48, 64, 96, 128, 192, 256, 384, 512, 768]"
      ]
     },
     "execution_count": 57,
     "metadata": {},
     "output_type": "execute_result"
    }
   ],
   "source": [
    "ranks = [b * 2 ** i for i in range(2, 9) for b in [2, 3]]\n",
    "ranks"
   ]
  },
  {
   "cell_type": "markdown",
   "metadata": {},
   "source": [
    "### best model"
   ]
  },
  {
   "cell_type": "code",
   "execution_count": 58,
   "metadata": {},
   "outputs": [],
   "source": [
    "def svd_grid_search(ranks, training, testset, holdout, data_description, topn = 20):\n",
    "    max_rank = max(ranks)\n",
    "    config = {'rank': max_rank}\n",
    "    item_factors = build_svd_model(config, training, data_description)\n",
    "    results = {}\n",
    "    for rank in tqdm(ranks):\n",
    "        item_factors_trunc = item_factors[:, :rank]\n",
    "        scores = svd_model_scoring(item_factors_trunc, testset, data_description)\n",
    "        recs = topn_recommendations(scores, topn=topn)\n",
    "        results[rank] = evaluate(recs, holdout, data_description)\n",
    "    return results\n",
    "\n",
    "def build_svd_model(config, data, data_description):\n",
    "    source_matrix = generate_interactions_matrix(data, data_description, rebase_users=False)\n",
    "    *_, vt = svds(source_matrix, k=config['rank'], return_singular_vectors='vh')\n",
    "    item_factors = np.ascontiguousarray(vt[::-1, :].T)\n",
    "    return item_factors\n",
    "    \n",
    "def svd_model_scoring(params, data, data_description):\n",
    "    item_factors = params\n",
    "    test_matrix = generate_interactions_matrix(data, data_description, rebase_users=True)\n",
    "    scores = test_matrix.dot(item_factors) @ item_factors.T\n",
    "    downvote_seen_items(scores, data, data_description)\n",
    "    return scores\n",
    "    "
   ]
  },
  {
   "cell_type": "code",
   "execution_count": 59,
   "metadata": {},
   "outputs": [
    {
     "name": "stderr",
     "output_type": "stream",
     "text": [
      "100%|█████████████████████████████████████████████████████████████████████████████████████████████████████████████████████████| 14/14 [00:05<00:00,  2.41it/s]"
     ]
    },
    {
     "name": "stdout",
     "output_type": "stream",
     "text": [
      "CPU times: user 8min 34s, sys: 3min 38s, total: 12min 12s\n",
      "Wall time: 1min 51s\n"
     ]
    },
    {
     "name": "stderr",
     "output_type": "stream",
     "text": [
      "\n"
     ]
    }
   ],
   "source": [
    "%%time\n",
    "svd_results = svd_grid_search(ranks, train_val, testset_val, holdout_val, data_description, topn = 20)"
   ]
  },
  {
   "cell_type": "markdown",
   "metadata": {},
   "source": [
    "# Best model"
   ]
  },
  {
   "cell_type": "code",
   "execution_count": 60,
   "metadata": {},
   "outputs": [
    {
     "data": {
      "text/plain": [
       "16"
      ]
     },
     "execution_count": 60,
     "metadata": {},
     "output_type": "execute_result"
    }
   ],
   "source": [
    "best_svd_rank = pd.Series(svd_results).idxmax()\n",
    "best_svd_rank"
   ]
  },
  {
   "cell_type": "code",
   "execution_count": 61,
   "metadata": {},
   "outputs": [
    {
     "data": {
      "text/plain": [
       "<matplotlib.lines.Line2D at 0x168eb0730>"
      ]
     },
     "execution_count": 61,
     "metadata": {},
     "output_type": "execute_result"
    },
    {
     "data": {
      "image/png": "[encoded data removed]",
      "text/plain": [
       "<Figure size 640x480 with 1 Axes>"
      ]
     },
     "metadata": {},
     "output_type": "display_data"
    }
   ],
   "source": [
    "ax = pd.Series(svd_results).plot()\n",
    "ax.axvline(best_svd_rank, ls='--')"
   ]
  },
  {
   "cell_type": "markdown",
   "metadata": {},
   "source": [
    "# submit"
   ]
  },
  {
   "cell_type": "code",
   "execution_count": 63,
   "metadata": {},
   "outputs": [],
   "source": [
    "training, testset, data_index_source = transform_data(\n",
    "    training_source, testset_source, userid='userid', itemid='movieid'\n",
    ")\n",
    "\n",
    "data_description_source = dict(\n",
    "    users = data_index['users'].name,\n",
    "    items = data_index['items'].name,\n",
    "    feedback = 'rating',\n",
    "    n_users = len(data_index_source['users']),\n",
    "    n_items = len(data_index_source['items'])\n",
    ")\n",
    "\n",
    "best_config = {'rank': best_svd_rank}\n",
    "item_factors = build_svd_model(best_config, training, data_description_source)\n",
    "scores = svd_model_scoring(item_factors, testset, data_description_source)\n",
    "recs = topn_recommendations(scores, topn=topn)\n",
    "\n",
    "test_users_index = pd.Index(\n",
    "    testset_source['userid'].drop_duplicates()\n",
    ")\n",
    "\n",
    "save_solution(recs, test_users_index, data_index_source['items'], 'submission.csv')"
   ]
  },
  {
   "cell_type": "code",
   "execution_count": 64,
   "metadata": {},
   "outputs": [
    {
     "data": {
      "text/plain": [
       "['',\n",
       " '  0%|          | 0.00/620k [00:00<?, ?B/s]',\n",
       " ' 22%|██▏       | 136k/620k [00:00<00:00, 1.23MB/s]',\n",
       " ' 70%|██████▉   | 432k/620k [00:00<00:00, 561kB/s] ',\n",
       " '100%|██████████| 620k/620k [00:01<00:00, 339kB/s]',\n",
       " 'Successfully submitted to Skoltech Recommender Systems Challenge 2023']"
      ]
     },
     "execution_count": 64,
     "metadata": {},
     "output_type": "execute_result"
    }
   ],
   "source": [
    "!kaggle competitions submit -c {competition_name} -f submission.csv -m 'my new submission'"
   ]
  },
  {
   "cell_type": "markdown",
   "metadata": {},
   "source": [
    "# 75 pts baseline"
   ]
  },
  {
   "cell_type": "markdown",
   "metadata": {},
   "source": [
    "### grid-search"
   ]
  },
  {
   "cell_type": "code",
   "execution_count": 88,
   "metadata": {},
   "outputs": [],
   "source": [
    "scalings = [0.35, 0.4, 0.45]"
   ]
  },
  {
   "cell_type": "code",
   "execution_count": 78,
   "metadata": {},
   "outputs": [],
   "source": [
    "def ssvd_grid_search(ranks, scalings, training, testset, holdout, data_description, topn = 20):\n",
    "    max_rank = max(ranks)\n",
    "    config = {'rank': max_rank}\n",
    "    results = {}\n",
    "    for scaling in tqdm(scalings):\n",
    "        config['scaling'] = scaling\n",
    "        item_factors = build_ssvd_model(config, training, data_description)\n",
    "        for rank in tqdm(ranks):\n",
    "            item_factors_trunc = item_factors[:, :rank]\n",
    "            scores = ssvd_model_scoring(item_factors_trunc, testset, data_description)\n",
    "            recs = topn_recommendations(scores, topn=topn)\n",
    "            results[(rank, scaling)] = evaluate(recs, holdout, data_description)\n",
    "    return results\n",
    "\n",
    "def build_ssvd_model(config, data, data_description):\n",
    "    source_matrix = generate_interactions_matrix(data, data_description, rebase_users=False)\n",
    "    scaled_matrix = rescale_matrix(source_matrix, config['scaling'])\n",
    "    \n",
    "    *_, vt = svds(scaled_matrix, k=config['rank'], return_singular_vectors='vh')\n",
    "    item_factors = np.ascontiguousarray(vt[::-1, :].T)\n",
    "    return item_factors\n",
    "\n",
    "def rescale_matrix(matrix, scaling_factor):\n",
    "    freqs = matrix.getnnz(axis=0)\n",
    "    scaling_weights = np.power(freqs, 0.5 * (scaling_factor - 1))\n",
    "    return matrix.dot(diags(scaling_weights))\n",
    "    \n",
    "def ssvd_model_scoring(params, data, data_description):\n",
    "    item_factors = params\n",
    "    test_matrix = generate_interactions_matrix(data, data_description, rebase_users=True)\n",
    "    scores = test_matrix.dot(item_factors) @ item_factors.T\n",
    "    downvote_seen_items(scores, data, data_description)\n",
    "    return scores"
   ]
  },
  {
   "cell_type": "code",
   "execution_count": 89,
   "metadata": {},
   "outputs": [
    {
     "name": "stderr",
     "output_type": "stream",
     "text": [
      "  0%|                                                                                                                                   | 0/3 [00:00<?, ?it/s]\n",
      "  0%|                                                                                                                                  | 0/14 [00:00<?, ?it/s]\u001b[A\n",
      "  7%|████████▋                                                                                                                 | 1/14 [00:00<00:04,  3.03it/s]\u001b[A\n",
      " 14%|█████████████████▍                                                                                                        | 2/14 [00:00<00:04,  2.97it/s]\u001b[A\n",
      " 21%|██████████████████████████▏                                                                                               | 3/14 [00:01<00:03,  2.97it/s]\u001b[A\n",
      " 29%|██████████████████████████████████▊                                                                                       | 4/14 [00:01<00:03,  2.91it/s]\u001b[A\n",
      " 36%|███████████████████████████████████████████▌                                                                              | 5/14 [00:01<00:03,  2.92it/s]\u001b[A\n",
      " 43%|████████████████████████████████████████████████████▎                                                                     | 6/14 [00:02<00:02,  2.91it/s]\u001b[A\n",
      " 50%|█████████████████████████████████████████████████████████████                                                             | 7/14 [00:02<00:02,  2.89it/s]\u001b[A\n",
      " 57%|█████████████████████████████████████████████████████████████████████▋                                                    | 8/14 [00:02<00:02,  2.80it/s]\u001b[A\n",
      " 64%|██████████████████████████████████████████████████████████████████████████████▍                                           | 9/14 [00:03<00:01,  2.66it/s]\u001b[A\n",
      " 71%|██████████████████████████████████████████████████████████████████████████████████████▍                                  | 10/14 [00:03<00:01,  2.52it/s]\u001b[A\n",
      " 79%|███████████████████████████████████████████████████████████████████████████████████████████████                          | 11/14 [00:04<00:01,  2.41it/s]\u001b[A\n",
      " 86%|███████████████████████████████████████████████████████████████████████████████████████████████████████▋                 | 12/14 [00:04<00:00,  2.26it/s]\u001b[A\n",
      " 93%|████████████████████████████████████████████████████████████████████████████████████████████████████████████████▎        | 13/14 [00:05<00:00,  2.07it/s]\u001b[A\n",
      "100%|█████████████████████████████████████████████████████████████████████████████████████████████████████████████████████████| 14/14 [00:05<00:00,  2.38it/s]\u001b[A\n",
      " 33%|████████████████████████████████████████▋                                                                                 | 1/3 [02:27<04:54, 147.35s/it]\n",
      "  0%|                                                                                                                                  | 0/14 [00:00<?, ?it/s]\u001b[A\n",
      "  7%|████████▋                                                                                                                 | 1/14 [00:00<00:04,  2.79it/s]\u001b[A\n",
      " 14%|█████████████████▍                                                                                                        | 2/14 [00:00<00:04,  2.84it/s]\u001b[A\n",
      " 21%|██████████████████████████▏                                                                                               | 3/14 [00:01<00:03,  2.84it/s]\u001b[A\n",
      " 29%|██████████████████████████████████▊                                                                                       | 4/14 [00:01<00:03,  2.78it/s]\u001b[A\n",
      " 36%|███████████████████████████████████████████▌                                                                              | 5/14 [00:01<00:03,  2.82it/s]\u001b[A\n",
      " 43%|████████████████████████████████████████████████████▎                                                                     | 6/14 [00:02<00:02,  2.77it/s]\u001b[A\n",
      " 50%|█████████████████████████████████████████████████████████████                                                             | 7/14 [00:02<00:02,  2.67it/s]\u001b[A\n",
      " 57%|█████████████████████████████████████████████████████████████████████▋                                                    | 8/14 [00:02<00:02,  2.60it/s]\u001b[A\n",
      " 64%|██████████████████████████████████████████████████████████████████████████████▍                                           | 9/14 [00:03<00:02,  2.48it/s]\u001b[A\n",
      " 71%|██████████████████████████████████████████████████████████████████████████████████████▍                                  | 10/14 [00:03<00:01,  2.30it/s]\u001b[A\n",
      " 79%|███████████████████████████████████████████████████████████████████████████████████████████████                          | 11/14 [00:04<00:01,  2.17it/s]\u001b[A\n",
      " 86%|███████████████████████████████████████████████████████████████████████████████████████████████████████▋                 | 12/14 [00:05<00:01,  2.00it/s]\u001b[A\n",
      " 93%|████████████████████████████████████████████████████████████████████████████████████████████████████████████████▎        | 13/14 [00:05<00:00,  1.82it/s]\u001b[A\n",
      "100%|█████████████████████████████████████████████████████████████████████████████████████████████████████████████████████████| 14/14 [00:06<00:00,  2.16it/s]\u001b[A\n",
      " 67%|█████████████████████████████████████████████████████████████████████████████████▎                                        | 2/3 [04:49<02:24, 144.54s/it]\n",
      "  0%|                                                                                                                                  | 0/14 [00:00<?, ?it/s]\u001b[A\n",
      "  7%|████████▋                                                                                                                 | 1/14 [00:00<00:04,  2.87it/s]\u001b[A\n",
      " 14%|█████████████████▍                                                                                                        | 2/14 [00:00<00:04,  2.84it/s]\u001b[A\n",
      " 21%|██████████████████████████▏                                                                                               | 3/14 [00:01<00:03,  2.84it/s]\u001b[A\n",
      " 29%|██████████████████████████████████▊                                                                                       | 4/14 [00:01<00:03,  2.86it/s]\u001b[A\n",
      " 36%|███████████████████████████████████████████▌                                                                              | 5/14 [00:01<00:03,  2.83it/s]\u001b[A\n",
      " 43%|████████████████████████████████████████████████████▎                                                                     | 6/14 [00:02<00:02,  2.79it/s]\u001b[A\n",
      " 50%|█████████████████████████████████████████████████████████████                                                             | 7/14 [00:02<00:02,  2.74it/s]\u001b[A\n",
      " 57%|█████████████████████████████████████████████████████████████████████▋                                                    | 8/14 [00:02<00:02,  2.68it/s]\u001b[A\n",
      " 64%|██████████████████████████████████████████████████████████████████████████████▍                                           | 9/14 [00:03<00:01,  2.60it/s]\u001b[A\n",
      " 71%|██████████████████████████████████████████████████████████████████████████████████████▍                                  | 10/14 [00:03<00:01,  2.46it/s]\u001b[A\n",
      " 79%|███████████████████████████████████████████████████████████████████████████████████████████████                          | 11/14 [00:04<00:01,  2.27it/s]\u001b[A\n",
      " 86%|███████████████████████████████████████████████████████████████████████████████████████████████████████▋                 | 12/14 [00:04<00:00,  2.04it/s]\u001b[A\n",
      " 93%|████████████████████████████████████████████████████████████████████████████████████████████████████████████████▎        | 13/14 [00:05<00:00,  1.90it/s]\u001b[A\n",
      "100%|█████████████████████████████████████████████████████████████████████████████████████████████████████████████████████████| 14/14 [00:06<00:00,  2.25it/s]\u001b[A\n",
      "100%|██████████████████████████████████████████████████████████████████████████████████████████████████████████████████████████| 3/3 [07:16<00:00, 145.47s/it]\n"
     ]
    }
   ],
   "source": [
    "ssvd_results = ssvd_grid_search(\n",
    "    ranks, scalings,\n",
    "    train_val, testset_val, holdout_val,\n",
    "    data_description, topn=20\n",
    ")"
   ]
  },
  {
   "cell_type": "markdown",
   "metadata": {},
   "source": [
    "### best model"
   ]
  },
  {
   "cell_type": "code",
   "execution_count": 90,
   "metadata": {},
   "outputs": [
    {
     "data": {
      "text/plain": [
       "(512, 0.35)"
      ]
     },
     "execution_count": 90,
     "metadata": {},
     "output_type": "execute_result"
    }
   ],
   "source": [
    "best_svd_param = pd.Series(ssvd_results).idxmax()\n",
    "best_svd_param"
   ]
  },
  {
   "cell_type": "code",
   "execution_count": 91,
   "metadata": {},
   "outputs": [
    {
     "data": {
      "text/plain": [
       "0.02349343766780961"
      ]
     },
     "execution_count": 91,
     "metadata": {},
     "output_type": "execute_result"
    }
   ],
   "source": [
    "ssvd_results[best_svd_param]"
   ]
  },
  {
   "cell_type": "code",
   "execution_count": 92,
   "metadata": {},
   "outputs": [],
   "source": [
    "training, testset, data_index_source = transform_data(\n",
    "    training_source, testset_source, userid='userid', itemid='movieid'\n",
    ")\n",
    "\n",
    "data_description_source = dict(\n",
    "    users = data_index['users'].name,\n",
    "    items = data_index['items'].name,\n",
    "    feedback = 'rating',\n",
    "    n_users = len(data_index_source['users']),\n",
    "    n_items = len(data_index_source['items'])\n",
    ")\n",
    "\n",
    "best_config = {'rank': best_svd_param[0], 'scaling': best_svd_param[1]}\n",
    "item_factors = build_ssvd_model(best_config, training, data_description_source)\n",
    "scores = ssvd_model_scoring(item_factors, testset, data_description_source)\n",
    "recs = topn_recommendations(scores, topn=topn)\n",
    "\n",
    "test_users_index = pd.Index(\n",
    "    testset_source['userid'].drop_duplicates()\n",
    ")\n",
    "\n",
    "save_solution(recs, test_users_index, data_index_source['items'], 'submission.csv')"
   ]
  },
  {
   "cell_type": "code",
   "execution_count": 93,
   "metadata": {},
   "outputs": [
    {
     "name": "stdout",
     "output_type": "stream",
     "text": [
      "100%|█████████████████████████████████████████| 633k/633k [00:01<00:00, 359kB/s]\n",
      "Successfully submitted to Skoltech Recommender Systems Challenge 2023"
     ]
    }
   ],
   "source": [
    "!kaggle competitions submit -c {competition_name} -f submission.csv -m 'my new submission'"
   ]
  },
  {
   "cell_type": "code",
   "execution_count": null,
   "metadata": {},
   "outputs": [],
   "source": []
  }
 ],
 "metadata": {
  "kernelspec": {
   "display_name": "Python 3 (ipykernel)",
   "language": "python",
   "name": "python3"
  },
  "language_info": {
   "codemirror_mode": {
    "name": "ipython",
    "version": 3
   },
   "file_extension": ".py",
   "mimetype": "text/x-python",
   "name": "python",
   "nbconvert_exporter": "python",
   "pygments_lexer": "ipython3",
   "version": "3.9.6"
  }
 },
 "nbformat": 4,
 "nbformat_minor": 2
}
